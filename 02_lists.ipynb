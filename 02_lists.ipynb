{
  "cells": [
    {
      "cell_type": "markdown",
      "metadata": {
        "id": "view-in-github",
        "colab_type": "text"
      },
      "source": [
        "<a href=\"https://colab.research.google.com/github/asmamasood/python_operators/blob/main/02_lists.ipynb\" target=\"_parent\"><img src=\"https://colab.research.google.com/assets/colab-badge.svg\" alt=\"Open In Colab\"/></a>"
      ]
    },
    {
      "cell_type": "markdown",
      "metadata": {
        "id": "AMB-raJHDIcZ"
      },
      "source": [
        "***01_add_many_number***"
      ]
    },
    {
      "cell_type": "markdown",
      "metadata": {
        "id": "q3fs2ivADkC8"
      },
      "source": [
        "Write a function that takes a list of numbers and returns the sum of those numbers."
      ]
    },
    {
      "cell_type": "code",
      "execution_count": null,
      "metadata": {
        "colab": {
          "base_uri": "https://localhost:8080/"
        },
        "id": "Y5oR_BxlDpqV",
        "outputId": "6c23290d-9019-4830-af51-01117bf0d31d"
      },
      "outputs": [
        {
          "name": "stdout",
          "output_type": "stream",
          "text": [
            "21\n"
          ]
        }
      ],
      "source": [
        "my_list=[1,2,3,4,5,6]\n",
        "total=sum_of_numbers(my_list)\n",
        "print(total)"
      ]
    },
    {
      "cell_type": "markdown",
      "metadata": {
        "id": "Hdylklg2Enrg"
      },
      "source": [
        "***02_double_list***"
      ]
    },
    {
      "cell_type": "markdown",
      "metadata": {
        "id": "8MMS24xnElHy"
      },
      "source": [
        "Write a program that doubles each element in a list of numbers. For example, if you start with this list:\n",
        "\n",
        "numbers = [1, 2, 3, 4]\n",
        "\n",
        "You should end with this list:\n",
        "\n",
        "numbers = [2, 4, 6, 8]"
      ]
    },
    {
      "cell_type": "code",
      "execution_count": null,
      "metadata": {
        "colab": {
          "base_uri": "https://localhost:8080/"
        },
        "id": "_mg6kXdpEzqF",
        "outputId": "10230ba1-f39c-4165-9f8a-e8ef02314c04"
      },
      "outputs": [
        {
          "name": "stdout",
          "output_type": "stream",
          "text": [
            "[2, 4, 6, 8]\n"
          ]
        }
      ],
      "source": [
        "def main():\n",
        "  numbers=[1,2,3,4]\n",
        "  numbers=[num * 2 for num in numbers]\n",
        "  print(numbers)\n",
        "if __name__== '__main__':\n",
        "  main()"
      ]
    },
    {
      "cell_type": "markdown",
      "metadata": {
        "id": "vGA9O0jKIUlN"
      },
      "source": [
        "***03_erase_canvas***"
      ]
    },
    {
      "cell_type": "markdown",
      "metadata": {
        "id": "lTeCe8cMIclS"
      },
      "source": [
        "Implement an 'eraser' on a canvas.\n",
        "\n",
        "The canvas consists of a grid of blue 'cells' which are drawn as rectangles on the screen. We then create an eraser rectangle which, when dragged around the canvas, sets all of the rectangles it is in contact with to white."
      ]
    },
    {
      "cell_type": "code",
      "source": [
        "from ipycanvas import Canvas, hold_canvas\n",
        "from IPython.display import display\n",
        "import numpy as np\n",
        "\n",
        "# Canvas size\n",
        "width, height = 600, 400\n",
        "cell_size = 20\n",
        "\n",
        "# Grid size\n",
        "cols = width // cell_size\n",
        "rows = height // cell_size\n",
        "\n",
        "# Create canvas\n",
        "canvas = Canvas(width=width, height=height)\n",
        "display(canvas)\n",
        "\n",
        "# Fill canvas with blue grid\n",
        "colors = np.full((rows, cols), 'blue', dtype='<U5')\n",
        "\n",
        "def draw_grid():\n",
        "    with hold_canvas(canvas):\n",
        "        for y in range(rows):\n",
        "            for x in range(cols):\n",
        "                canvas.fill_style = colors[y, x]\n",
        "                canvas.fill_rect(x * cell_size, y * cell_size, cell_size, cell_size)\n",
        "\n",
        "draw_grid()\n",
        "\n",
        "# Eraser settings\n",
        "eraser_size = 40  # in pixels\n",
        "\n",
        "# Mouse event handler\n",
        "def on_mouse_move(x, y):\n",
        "    x_cell = x // cell_size\n",
        "    y_cell = y // cell_size\n",
        "\n",
        "    eraser_radius = eraser_size // cell_size  # convert pixels to cell units\n",
        "\n",
        "    for dy in range(-eraser_radius, eraser_radius + 1):\n",
        "        for dx in range(-eraser_radius, eraser_radius + 1):\n",
        "            cx = int(x_cell + dx)\n",
        "            cy = int(y_cell + dy)\n",
        "            if 0 <= cx < cols and 0 <= cy < rows:\n",
        "                colors[cy, cx] = 'white'\n",
        "\n",
        "    draw_grid()\n",
        "\n",
        "canvas.on_mouse_move(on_mouse_move)\n"
      ],
      "metadata": {
        "id": "vcvlhmgVV-ri"
      },
      "execution_count": null,
      "outputs": []
    },
    {
      "cell_type": "markdown",
      "source": [
        "***04_flowing_with_data_structures***"
      ],
      "metadata": {
        "id": "Hg5RC6iavhoD"
      }
    },
    {
      "cell_type": "markdown",
      "metadata": {
        "id": "mGRGLEgzijU2"
      },
      "source": [
        "In the information flow lesson, we discussed using a variable storing a number as an example of scope. We saw that changes we made to the number inside a function did not stay unless we returned it. This is true for what we call immutable data types which include things like numbers and strings.\n",
        "\n",
        "However, there are also mutable data types where changes stay even if we don't return anything. Some examples of mutable data types are lists and dictionaries. This means that you should be mindful when modifying lists and dictionaries within helper functions since their changes stay whether or not you return them.\n",
        "\n",
        "To see this in action, fill out the add_three_copies(...) function which takes a list and some data and then adds three copies of the data to the list. Don't return anything and see what happens! Compare this process to the x = change(x) example and note the differences.\n",
        "\n",
        "Here is an example run of this program (user input in bold italics):\n",
        "\n",
        "Enter a message to copy: Hello world!\n",
        "\n",
        "List before: []\n",
        "\n",
        "List after: ['Hello world!', 'Hello world!', 'Hello world!']\n",
        "\n",
        "(Note. The concept of immutable/mutable data types is called mutability. Be careful because different programming languages have different rules regarding mutability!)"
      ]
    },
    {
      "cell_type": "code",
      "execution_count": null,
      "metadata": {
        "colab": {
          "base_uri": "https://localhost:8080/"
        },
        "id": "c7ZcWoSoiw-B",
        "outputId": "83d7ac64-46cd-4b67-9695-e0c152a138cd"
      },
      "outputs": [
        {
          "name": "stdout",
          "output_type": "stream",
          "text": [
            "plz enter a message to copyAsma masood,12345\n",
            "before:[]\n",
            "after:['Asma masood,12345', 'Asma masood,12345', 'Asma masood,12345']\n"
          ]
        }
      ],
      "source": [
        "def add_3_no(my_list,data):\n",
        "    for i in range(3):\n",
        "       my_list.append(data)\n",
        "def main():\n",
        "    user=input(\"plz enter a message to copy\")\n",
        "    my_list=[]\n",
        "    print(f\"before:{my_list}\")\n",
        "    add_3_no(my_list,user)\n",
        "    print(f\"after:{my_list}\")\n",
        "if __name__=='__main__':\n",
        "    main()"
      ]
    },
    {
      "cell_type": "markdown",
      "metadata": {
        "id": "vC2N55gH4925"
      },
      "source": [
        "***05_get_first_element***"
      ]
    },
    {
      "cell_type": "markdown",
      "metadata": {
        "id": "gQ-D2wCd5H4D"
      },
      "source": [
        "Fill out the function get_first_element(lst) which takes in a list lst as a parameter and prints the first element in the list. The list is guaranteed to be non-empty. We've written some code for you which prompts the user to input the list one element at a time."
      ]
    },
    {
      "cell_type": "code",
      "execution_count": null,
      "metadata": {
        "colab": {
          "base_uri": "https://localhost:8080/"
        },
        "id": "gnklZk9aBD3a",
        "outputId": "3b2facba-5af2-4076-80be-233ff1a0082a"
      },
      "outputs": [
        {
          "name": "stdout",
          "output_type": "stream",
          "text": [
            "Enter an element of the list OR press enter to stop: 12,32,34\n",
            "Enter an element of the list OR press enter to stop: abcd\n",
            "Enter an element of the list OR press enter to stop: hello\n",
            "Enter an element of the list OR press enter to stop: check krte hain\n",
            "Enter an element of the list OR press enter to stop: \n",
            "The first element is: 12,32,34\n"
          ]
        }
      ],
      "source": [
        "def get_first_element():\n",
        "    first_element_list = []\n",
        "    user = input(\"Enter an element of the list OR press enter to stop: \")\n",
        "\n",
        "    while user != \"\":\n",
        "        first_element_list.append(user)\n",
        "        user = input(\"Enter an element of the list OR press enter to stop: \")\n",
        "\n",
        "    return first_element_list[0]  # pehla element return karo\n",
        "\n",
        "def main():\n",
        "    first = get_first_element()  # function ko call karo aur result lo\n",
        "    print(f\"The first element is: {first}\")\n",
        "\n",
        "if __name__ == '__main__':\n",
        "    main()\n"
      ]
    },
    {
      "cell_type": "markdown",
      "metadata": {
        "id": "UW84RqsIDFX1"
      },
      "source": [
        "***06_get_last_element***"
      ]
    },
    {
      "cell_type": "markdown",
      "metadata": {
        "id": "C9XtNQX3DHjW"
      },
      "source": [
        "Fill out the function get_last_element(lst) which takes in a list lst as a parameter and prints the last element in the list. The list is guaranteed to be non-empty, but there are no guarantees on its length."
      ]
    },
    {
      "cell_type": "code",
      "execution_count": null,
      "metadata": {
        "colab": {
          "base_uri": "https://localhost:8080/"
        },
        "id": "heMhBHOUDLtm",
        "outputId": "e00222c4-9290-428c-8321-f245e5334c3b"
      },
      "outputs": [
        {
          "name": "stdout",
          "output_type": "stream",
          "text": [
            "Enter an element of the list OR press enter to stop: asma\n",
            "Enter an element of the list OR press enter to stop: saba\n",
            "Enter an element of the list OR press enter to stop: ani\n",
            "Enter an element of the list OR press enter to stop: kanwal\n",
            "Enter an element of the list OR press enter to stop: maha\n",
            "Enter an element of the list OR press enter to stop: tuba\n",
            "Enter an element of the list OR press enter to stop: barka\n",
            "Enter an element of the list OR press enter to stop: \n",
            "The last element is: barka\n"
          ]
        }
      ],
      "source": [
        "def get_last_element():\n",
        "    my_list = []\n",
        "    user = input(\"Enter an element of the list OR press enter to stop: \")\n",
        "    while user != \"\":\n",
        "        my_list.append(user)\n",
        "        user = input(\"Enter an element of the list OR press enter to stop: \")\n",
        "    return my_list[-1]\n",
        "def main():\n",
        "    last = get_last_element()\n",
        "    print(f\"The last element is: {last}\")\n",
        "\n",
        "if __name__ == '__main__':\n",
        "    main()"
      ]
    },
    {
      "cell_type": "markdown",
      "metadata": {
        "id": "qB9GMnyYGyxh"
      },
      "source": [
        "***07_get_list***"
      ]
    },
    {
      "cell_type": "markdown",
      "metadata": {
        "id": "RJ1fo8-nG1Bv"
      },
      "source": [
        "Write a program which continuously asks the user to enter values which are added one by one into a list. When the user presses enter without typing anything, print the list.\n",
        "\n",
        "Here's a sample run (user input is in blue):\n",
        "\n",
        "Enter a value: 1 Enter a value: 2 Enter a value: 3 Enter a value: Here's the list: ['1', '2', '3']\n"
      ]
    },
    {
      "cell_type": "code",
      "execution_count": null,
      "metadata": {
        "colab": {
          "base_uri": "https://localhost:8080/"
        },
        "id": "9-2d35f0G8F3",
        "outputId": "5059b7d4-9ab1-45ba-bc24-d8f57dd6da60"
      },
      "outputs": [
        {
          "name": "stdout",
          "output_type": "stream",
          "text": [
            "Enter a value: 123\n",
            "Enter a value: 234\n",
            "Enter a value: 345\n",
            "Enter a value: 456\n",
            "Enter a value: 567\n",
            "Enter a value: \n",
            "Here's the list: ['123', '234', '345', '456', '567']\n"
          ]
        }
      ],
      "source": [
        "def main():\n",
        "    my_list = []\n",
        "\n",
        "    while True:\n",
        "        user = input(\"Enter a value: \")\n",
        "        if user == \"\":\n",
        "            break\n",
        "        my_list.append(user)\n",
        "\n",
        "\n",
        "    print(f\"Here's the list: {my_list}\")\n",
        "\n",
        "if __name__ == '__main__':\n",
        "    main()\n"
      ]
    },
    {
      "cell_type": "markdown",
      "metadata": {
        "id": "2EtR5nbKLVAY"
      },
      "source": [
        "***08_shorten***"
      ]
    },
    {
      "cell_type": "markdown",
      "metadata": {
        "id": "x6WQvhAFLa3h"
      },
      "source": [
        "Fill out the function shorten(lst) which removes elements from the end of lst, which is a list, and prints each item it removes until lst is MAX_LENGTH items long. If lst is already shorter than MAX_LENGTH you should leave it unchanged. We've written a main() function for you which gets a list and passes it into your function once you run the program. For the autograder to pass you will need MAX_LENGTH to be 3, but feel free to change it around to test your program."
      ]
    },
    {
      "cell_type": "code",
      "execution_count": null,
      "metadata": {
        "colab": {
          "base_uri": "https://localhost:8080/"
        },
        "id": "RFM0breTLg4M",
        "outputId": "66e4e167-00cb-44c5-bc57-7b311d56734f"
      },
      "outputs": [
        {
          "name": "stdout",
          "output_type": "stream",
          "text": [
            "Please enter an element of the list or press enter to stop: 1\n",
            "Please enter an element of the list or press enter to stop: 2\n",
            "Please enter an element of the list or press enter to stop: 3\n",
            "Please enter an element of the list or press enter to stop: 4\n",
            "Please enter an element of the list or press enter to stop: 5\n",
            "Please enter an element of the list or press enter to stop: 6\n",
            "Please enter an element of the list or press enter to stop: 7\n",
            "Please enter an element of the list or press enter to stop: \n",
            "Removed: 7\n",
            "Removed: 6\n",
            "Removed: 5\n",
            "Removed: 4\n",
            "Final list: ['1', '2', '3']\n"
          ]
        }
      ],
      "source": [
        "MAX_LENGTH = 3\n",
        "\n",
        "def shorten(lst):\n",
        "    while len(lst) > MAX_LENGTH:\n",
        "        removed = lst.pop()  # aakhri element hatao\n",
        "        print(f\"Removed: {removed}\")\n",
        "\n",
        "# ---- Provided code ----\n",
        "\n",
        "def get_lst():\n",
        "    lst = []\n",
        "    elem = input(\"Please enter an element of the list or press enter to stop: \")\n",
        "    while elem != \"\":\n",
        "        lst.append(elem)\n",
        "        elem = input(\"Please enter an element of the list or press enter to stop: \")\n",
        "    return lst\n",
        "\n",
        "def main():\n",
        "    lst = get_lst()\n",
        "    shorten(lst)\n",
        "    print(\"Final list:\", lst)\n",
        "\n",
        "if __name__ == '__main__':\n",
        "    main()\n"
      ]
    }
  ],
  "metadata": {
    "colab": {
      "provenance": [],
      "authorship_tag": "ABX9TyPGFENs1+8E9sJvY0wmpoQQ",
      "include_colab_link": true
    },
    "kernelspec": {
      "display_name": "Python 3",
      "name": "python3"
    },
    "language_info": {
      "name": "python"
    }
  },
  "nbformat": 4,
  "nbformat_minor": 0
}