{
  "nbformat": 4,
  "nbformat_minor": 0,
  "metadata": {
    "colab": {
      "provenance": [],
      "authorship_tag": "ABX9TyPobDIbQC/1QC1Pf1q9G0L2",
      "include_colab_link": true
    },
    "kernelspec": {
      "name": "python3",
      "display_name": "Python 3"
    },
    "language_info": {
      "name": "python"
    }
  },
  "cells": [
    {
      "cell_type": "markdown",
      "metadata": {
        "id": "view-in-github",
        "colab_type": "text"
      },
      "source": [
        "<a href=\"https://colab.research.google.com/github/asmamasood/python_operators/blob/main/Bitwise_Operators_py.ipynb\" target=\"_parent\"><img src=\"https://colab.research.google.com/assets/colab-badge.svg\" alt=\"Open In Colab\"/></a>"
      ]
    },
    {
      "cell_type": "code",
      "execution_count": null,
      "metadata": {
        "id": "RYfz-Fp66GR_"
      },
      "outputs": [],
      "source": [
        "#   Bitwise Operators\n",
        "\n",
        "x = 6   # binary: 110\n",
        "y = 3   # binary: 011\n",
        "\n",
        "# Bitwise AND\n",
        "print(\"x & y (AND):\", x & y)        # 2 -> 010\n",
        "\n",
        "# Bitwise OR\n",
        "print(\"x | y (OR):\", x | y)         # 7 -> 111\n",
        "\n",
        "# Bitwise XOR\n",
        "print(\"x ^ y (XOR):\", x ^ y)        # 5 -> 101\n",
        "\n",
        "# Bitwise NOT\n",
        "print(\"~x (NOT):\", ~x)              # -7 -> inverts all bits of 6\n",
        "\n",
        "# Bitwise Left Shift\n",
        "print(\"x << 1 (Left Shift):\", x << 1)  # 12 -> 1100\n",
        "\n",
        "# Bitwise Right Shift\n",
        "print(\"x >> 1 (Right Shift):\", x >> 1) # 3 -> 011\n",
        "\n"
      ]
    }
  ]
}