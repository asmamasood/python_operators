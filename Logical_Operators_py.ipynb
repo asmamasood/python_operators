{
  "nbformat": 4,
  "nbformat_minor": 0,
  "metadata": {
    "colab": {
      "provenance": [],
      "authorship_tag": "ABX9TyPLyeyFXXLIm1oF4ZW0JI6m",
      "include_colab_link": true
    },
    "kernelspec": {
      "name": "python3",
      "display_name": "Python 3"
    },
    "language_info": {
      "name": "python"
    }
  },
  "cells": [
    {
      "cell_type": "markdown",
      "metadata": {
        "id": "view-in-github",
        "colab_type": "text"
      },
      "source": [
        "<a href=\"https://colab.research.google.com/github/asmamasood/python_operators/blob/main/Logical_Operators_py.ipynb\" target=\"_parent\"><img src=\"https://colab.research.google.com/assets/colab-badge.svg\" alt=\"Open In Colab\"/></a>"
      ]
    },
    {
      "cell_type": "code",
      "execution_count": null,
      "metadata": {
        "id": "Ffnh54mAusAD"
      },
      "outputs": [],
      "source": [
        "age = 22\n",
        "has_id = True\n",
        "\n",
        "print(\"Can enter:\", age >= 18 and has_id)     # True\n",
        "print(\"Teenager or has ID:\", age < 18 or has_id) # True\n",
        "print(\"Not an adult:\", not(age >= 18))        # False\n"
      ]
    }
  ]
}