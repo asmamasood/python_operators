{
  "nbformat": 4,
  "nbformat_minor": 0,
  "metadata": {
    "colab": {
      "provenance": [],
      "authorship_tag": "ABX9TyPA3EfJ6tCgceZVSUQzOMnK",
      "include_colab_link": true
    },
    "kernelspec": {
      "name": "python3",
      "display_name": "Python 3"
    },
    "language_info": {
      "name": "python"
    }
  },
  "cells": [
    {
      "cell_type": "markdown",
      "metadata": {
        "id": "view-in-github",
        "colab_type": "text"
      },
      "source": [
        "<a href=\"https://colab.research.google.com/github/asmamasood/python_operators/blob/main/Comparison_Operators_py.ipynb\" target=\"_parent\"><img src=\"https://colab.research.google.com/assets/colab-badge.svg\" alt=\"Open In Colab\"/></a>"
      ]
    },
    {
      "cell_type": "code",
      "execution_count": null,
      "metadata": {
        "id": "1iJWqWHKnBao"
      },
      "outputs": [],
      "source": [
        "# Comparison Operators Examples in Python\n",
        "\n",
        "a = 7\n",
        "b = 10\n",
        "\n",
        "# == (Equal to)\n",
        "# Checks if both values are equal\n",
        "print(\"a == b:\", a == b)   # False, because 7 is not equal to 10\n",
        "\n",
        "# != (Not equal to)\n",
        "# Checks if values are not equal\n",
        "print(\"a != b:\", a != b)   # True, because 7 is not equal to 10\n",
        "\n",
        "# > (Greater than)\n",
        "# Checks if the left value is greater than the right\n",
        "print(\"a > b:\", a > b)     # False, because 7 is less than 10\n",
        "\n",
        "# < (Less than)\n",
        "# Checks if the left value is less than the right\n",
        "print(\"a < b:\", a < b)     # True, because 7 is less than 10\n",
        "\n",
        "# >= (Greater than or equal to)\n",
        "# Checks if the left value is greater than or equal to the right\n",
        "print(\"a >= b:\", a >= b)   # False, 7 is neither greater than nor equal to 10\n",
        "\n",
        "# <= (Less than or equal to)\n",
        "# Checks if the left value is less than or equal to the right\n",
        "print(\"a <= b:\", a <= b)   # True, because 7 is less than 10\n",
        "\n"
      ]
    }
  ]
}