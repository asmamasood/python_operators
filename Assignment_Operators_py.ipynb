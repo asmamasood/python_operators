{
  "nbformat": 4,
  "nbformat_minor": 0,
  "metadata": {
    "colab": {
      "provenance": [],
      "authorship_tag": "ABX9TyN31ePXjGhCE4p1IBfuolj/",
      "include_colab_link": true
    },
    "kernelspec": {
      "name": "python3",
      "display_name": "Python 3"
    },
    "language_info": {
      "name": "python"
    }
  },
  "cells": [
    {
      "cell_type": "markdown",
      "metadata": {
        "id": "view-in-github",
        "colab_type": "text"
      },
      "source": [
        "<a href=\"https://colab.research.google.com/github/asmamasood/python_operators/blob/main/Assignment_Operators_py.ipynb\" target=\"_parent\"><img src=\"https://colab.research.google.com/assets/colab-badge.svg\" alt=\"Open In Colab\"/></a>"
      ]
    },
    {
      "cell_type": "code",
      "execution_count": null,
      "metadata": {
        "id": "IYrQQljANzW_"
      },
      "outputs": [],
      "source": [
        "# Assignment Operators Examples\n",
        "\n",
        "# 1. = (Simple Assignment)\n",
        "# x ko 10 assign kiya\n",
        "x = 10\n",
        "print(\"x =\", x)  # Output: 10\n",
        "\n",
        "# 2. += (Add and Assign)\n",
        "# x me 5 ka izafa kiya → x = x + 5\n",
        "x += 5\n",
        "print(\"x += 5 →\", x)  # Output: 15\n",
        "\n",
        "# 3. -= (Subtract and Assign)\n",
        "# x me se 3 minus kiya → x = x - 3\n",
        "x -= 3\n",
        "print(\"x -= 3 →\", x)  # Output: 12\n",
        "\n",
        "# 4. *= (Multiply and Assign)\n",
        "# x ko 2 se multiply kiya → x = x * 2\n",
        "x *= 2\n",
        "print(\"x *= 2 →\", x)  # Output: 24\n",
        "\n",
        "# 5. /= (Divide and Assign)\n",
        "# x ko 4 se divide kiya → x = x / 4\n",
        "x /= 4\n",
        "print(\"x /= 4 →\", x)  # Output: 6.0\n",
        "\n",
        "# 6. %= (Modulus and Assign)\n",
        "# x ka 4 ke sath modulus liya → x = x % 4\n",
        "x %= 4\n",
        "print(\"x %= 4 →\", x)  # Output: 2.0\n",
        "\n",
        "# 7. //= (Floor Divide and Assign)\n",
        "# x ko 2 se floor divide kiya → x = x // 2\n",
        "x //= 2\n",
        "print(\"x //= 2 →\", x)  # Output: 1.0\n",
        "\n",
        "# 8. **= (Exponent and Assign)\n",
        "# x ko power 3 di → x = x ** 3\n",
        "x **= 3\n",
        "print(\"x **= 3 →\", x)  # Output: 1.0\n",
        "\n",
        "\n",
        "\n"
      ]
    }
  ]
}