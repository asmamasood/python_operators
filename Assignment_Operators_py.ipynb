{
  "nbformat": 4,
  "nbformat_minor": 0,
  "metadata": {
    "colab": {
      "provenance": [],
      "authorship_tag": "ABX9TyPfJyx5Remp7ZCU5+lRRc3n",
      "include_colab_link": true
    },
    "kernelspec": {
      "name": "python3",
      "display_name": "Python 3"
    },
    "language_info": {
      "name": "python"
    }
  },
  "cells": [
    {
      "cell_type": "markdown",
      "metadata": {
        "id": "view-in-github",
        "colab_type": "text"
      },
      "source": [
        "<a href=\"https://colab.research.google.com/github/asmamasood/python_operators/blob/main/Assignment_Operators_py.ipynb\" target=\"_parent\"><img src=\"https://colab.research.google.com/assets/colab-badge.svg\" alt=\"Open In Colab\"/></a>"
      ]
    },
    {
      "cell_type": "code",
      "execution_count": null,
      "metadata": {
        "id": "IYrQQljANzW_"
      },
      "outputs": [],
      "source": [
        "# Assignment Operators ke Examples\n",
        "\n",
        "# 1. = (Simple Assignment)\n",
        "# x ko 10 assign kiya\n",
        "x = 10\n",
        "print(\"x =\", x)  # Output: 10\n",
        "\n",
        "# 2. += (Add and Assign)\n",
        "# x me 5 ka izafa kiya → x = x + 5\n",
        "x += 5\n",
        "print(\"x += 5 →\", x)  # Output: 15\n",
        "\n",
        "# 3. -= (Subtract and Assign)\n",
        "# x me se 3 minus kiya → x = x - 3\n",
        "x -= 3\n",
        "print(\"x -= 3 →\", x)  # Output: 12\n",
        "\n",
        "# 4. *= (Multiply and Assign)\n",
        "# x ko 2 se multiply kiya → x = x * 2\n",
        "x *= 2\n",
        "print(\"x *= 2 →\", x)  # Output: 24\n",
        "\n",
        "# 5. /= (Divide and Assign)\n",
        "# x ko 4 se divide kiya → x = x / 4\n",
        "x /= 4\n",
        "print(\"x /= 4 →\", x)  # Output: 6.0\n",
        "\n",
        "# 6. %= (Modulus and Assign)\n",
        "# x ka 4 ke sath modulus liya → x = x % 4\n",
        "x %= 4\n",
        "print(\"x %= 4 →\", x)  # Output: 2.0\n",
        "\n",
        "# 7. //= (Floor Divide and Assign)\n",
        "# x ko 2 se floor divide kiya → x = x // 2\n",
        "x //= 2\n",
        "print(\"x //= 2 →\", x)  # Output: 1.0\n",
        "\n",
        "# 8. **= (Exponent and Assign)\n",
        "# x ko power 3 di → x = x ** 3\n",
        "x **= 3\n",
        "print(\"x **= 3 →\", x)  # Output: 1.0\n",
        "\n",
        "# 9. &= (Bitwise AND and Assign)\n",
        "# x = 5 (0101 in binary), x &= 3 (0011) → result: 0001\n",
        "x = 5\n",
        "x &= 3\n",
        "print(\"x &= 3 →\", x)  # Output: 1\n",
        "\n",
        "# 10. |= (Bitwise OR and Assign)\n",
        "# x = 1 (0001), x |= 2 (0010) → result: 0011\n",
        "x |= 2\n",
        "print(\"x |= 2 →\", x)  # Output: 3\n",
        "\n",
        "# 11. ^= (Bitwise XOR and Assign)\n",
        "# x = 3 (0011), x ^= 1 (0001) → result: 0010\n",
        "x ^= 1\n",
        "print(\"x ^= 1 →\", x)  # Output: 2\n",
        "\n",
        "# 12. <<= (Left Shift and Assign)\n",
        "# x = 2 (0010), x <<= 1 → 0100\n",
        "x <<= 1\n",
        "print(\"x <<= 1 →\", x)  # Output: 4\n",
        "\n",
        "# 13. >>= (Right Shift and Assign)\n",
        "# x = 4 (0100), x >>= 2 → 0001\n",
        "x >>= 2\n",
        "print(\"x >>= 2 →\", x)  # Output: 1\n"
      ]
    }
  ]
}