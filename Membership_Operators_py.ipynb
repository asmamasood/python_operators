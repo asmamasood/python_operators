{
  "nbformat": 4,
  "nbformat_minor": 0,
  "metadata": {
    "colab": {
      "provenance": [],
      "authorship_tag": "ABX9TyOoO0pTC5TLDr1beHJkiGxS",
      "include_colab_link": true
    },
    "kernelspec": {
      "name": "python3",
      "display_name": "Python 3"
    },
    "language_info": {
      "name": "python"
    }
  },
  "cells": [
    {
      "cell_type": "markdown",
      "metadata": {
        "id": "view-in-github",
        "colab_type": "text"
      },
      "source": [
        "<a href=\"https://colab.research.google.com/github/asmamasood/python_operators/blob/main/Membership_Operators_py.ipynb\" target=\"_parent\"><img src=\"https://colab.research.google.com/assets/colab-badge.svg\" alt=\"Open In Colab\"/></a>"
      ]
    },
    {
      "cell_type": "code",
      "execution_count": null,
      "metadata": {
        "id": "xsUEtnHPwyF2"
      },
      "outputs": [],
      "source": [
        "#  Membership_Operators Example\n",
        "\n",
        "fruits = ['apple', 'banana', 'mango']\n",
        "\n",
        "print(\"'banana' in fruits:\", 'banana' in fruits)     # True\n",
        "print(\"'cherry' not in fruits:\", 'cherry' not in fruits) # True\n"
      ]
    }
  ]
}