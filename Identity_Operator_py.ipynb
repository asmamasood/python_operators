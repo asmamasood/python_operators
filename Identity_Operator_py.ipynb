{
  "nbformat": 4,
  "nbformat_minor": 0,
  "metadata": {
    "colab": {
      "provenance": [],
      "authorship_tag": "ABX9TyN1M1zql03Rd4UcJAfZZWIX",
      "include_colab_link": true
    },
    "kernelspec": {
      "name": "python3",
      "display_name": "Python 3"
    },
    "language_info": {
      "name": "python"
    }
  },
  "cells": [
    {
      "cell_type": "markdown",
      "metadata": {
        "id": "view-in-github",
        "colab_type": "text"
      },
      "source": [
        "<a href=\"https://colab.research.google.com/github/asmamasood/python_operators/blob/main/Identity_Operator_py.ipynb\" target=\"_parent\"><img src=\"https://colab.research.google.com/assets/colab-badge.svg\" alt=\"Open In Colab\"/></a>"
      ]
    },
    {
      "cell_type": "code",
      "execution_count": null,
      "metadata": {
        "id": "h0fnn-TDwPk9"
      },
      "outputs": [],
      "source": [
        "# Identity vs Equality in Python\n",
        "a = [1, 2, 3]\n",
        "b = a\n",
        "c = [1, 2, 3]\n",
        "\n",
        "print(\"a is b:\", a is b)       # True (same object in memory)\n",
        "print(\"a is c:\", a is c)       # False (values same, object different)\n",
        "print(\"a == c:\", a == c)       # True (values are equal)\n",
        "\n",
        "print(\"a is not c:\", a is not c)  # True\n"
      ]
    }
  ]
}